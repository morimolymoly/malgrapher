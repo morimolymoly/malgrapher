{
 "cells": [
  {
   "cell_type": "code",
   "execution_count": 26,
   "metadata": {},
   "outputs": [],
   "source": [
    "import subprocess"
   ]
  },
  {
   "cell_type": "code",
   "execution_count": 111,
   "metadata": {},
   "outputs": [
    {
     "name": "stdout",
     "output_type": "stream",
     "text": [
      "['0x654', '0x666', '0x674', '0x682', '0x694', '0x6a2']\n"
     ]
    }
   ],
   "source": [
    "# objdumpでjmp系命令を全て取得\n",
    "target_file_path = './target/test'\n",
    "\n",
    "def subprocess_helper(args, _stdin=None, _stdout=subprocess.PIPE):\n",
    "    return subprocess.Popen(args, stdin=_stdin, stdout=_stdout)\n",
    "\n",
    "def get_jmp_addrs():\n",
    "    objdump_args = ['objdump', '-d', '-M', 'intel', target_file_path]\n",
    "    proc1 = subprocess_helper(objdump_args)\n",
    "    \n",
    "    filter_jump_args = ['grep', 'j']\n",
    "    proc2 = subprocess_helper(filter_jump_args, proc1.stdout)\n",
    "    proc1.stdout.close()\n",
    "    \n",
    "    filter_main_args = ['grep', 'main']\n",
    "    proc1 = subprocess_helper(filter_main_args, proc2.stdout)\n",
    "    proc2.stdout.close()\n",
    "    \n",
    "    filter_cut_args = ['cut', '-d', ':', '-f', '1']\n",
    "    proc2 = subprocess_helper(filter_cut_args, proc1.stdout)\n",
    "    proc1.stdout.close()\n",
    "    \n",
    "    output = proc2.communicate()[0].decode('utf8')\n",
    "    jmp_addrs = []\n",
    "    if '\\n' in output:\n",
    "        jmp_addrs = output.split('\\n')[:-1]\n",
    "        jmp_addrs = [hex(int(addr.strip(' '), 16)) for addr in jmp_addrs]\n",
    "    return jmp_addrs\n",
    "\n",
    "\n",
    "print(get_jmp_addrs())"
   ]
  },
  {
   "cell_type": "code",
   "execution_count": 93,
   "metadata": {},
   "outputs": [
    {
     "name": "stdout",
     "output_type": "stream",
     "text": [
      "63e\n",
      "\n"
     ]
    }
   ],
   "source": [
    "# objdumpでの止まるアドレスを取得\n",
    "def get_stop_addr_objdump():\n",
    "    objdump_args = ['objdump', '-d', '-M', 'intel', target_file_path]\n",
    "    proc1 = subprocess_helper(objdump_args)\n",
    "    \n",
    "    filter_main_args = ['grep', '-A', '5', '<main>']\n",
    "    proc2 = subprocess_helper(filter_main_args, proc1.stdout)\n",
    "    proc1.stdout.close()\n",
    "    \n",
    "    filter_stop_addr = ['grep', 'sub']\n",
    "    proc1 = subprocess_helper(filter_stop_addr, proc2.stdout)\n",
    "    proc2.stdout.close()\n",
    "    \n",
    "    filter_cut_args = ['cut', '-d', ':', '-f', '1']\n",
    "    proc2 = subprocess_helper(filter_cut_args, proc1.stdout)\n",
    "    proc1.stdout.close()\n",
    "    \n",
    "    output = proc2.communicate()[0].decode('utf8').strip(' ')\n",
    "    return output\n",
    "    \n",
    "print(get_stop_addr_objdump())"
   ]
  },
  {
   "cell_type": "code",
   "execution_count": 81,
   "metadata": {},
   "outputs": [
    {
     "name": "stdout",
     "output_type": "stream",
     "text": [
      "0x55555555463e\n",
      "\n"
     ]
    }
   ],
   "source": [
    "# gdb実行時での止まるアドレスを取得\n",
    "def get_stop_addr_gdb():\n",
    "    init_args = ['rm', 'tmp.out']\n",
    "    subprocess.call(init_args)\n",
    "    \n",
    "    gdb_args = ['gdb', '-q', '-x', 'get_stop_addr.py', './target/test']\n",
    "    subprocess.call(gdb_args)\n",
    "    \n",
    "    filter_cat_args = ['cut', '-d', ' ', '-f', '2', 'tmp.out' ]\n",
    "    addr = subprocess.check_output(filter_cat_args)\n",
    "    return addr.decode('utf8')\n",
    "\n",
    "print(get_stop_addr_gdb())"
   ]
  },
  {
   "cell_type": "code",
   "execution_count": 112,
   "metadata": {},
   "outputs": [
    {
     "name": "stdout",
     "output_type": "stream",
     "text": [
      "0x555555554000\n"
     ]
    }
   ],
   "source": [
    "# objdumpとgdb実行時のoffsetを取得\n",
    "def get_offset_with_objdump_and_gdb():\n",
    "    return hex(int(get_stop_addr_gdb(), 0) - int(get_stop_addr_objdump(), 16))\n",
    "\n",
    "print(get_offset_with_objdump_and_gdb())"
   ]
  },
  {
   "cell_type": "code",
   "execution_count": 118,
   "metadata": {},
   "outputs": [
    {
     "data": {
      "text/plain": [
       "['0x555555554654',\n",
       " '0x555555554666',\n",
       " '0x555555554674',\n",
       " '0x555555554682',\n",
       " '0x555555554694',\n",
       " '0x5555555546a2']"
      ]
     },
     "execution_count": 118,
     "metadata": {},
     "output_type": "execute_result"
    }
   ],
   "source": [
    "# breakpointを立てるアドレスを再計算(offsetを考慮する)\n",
    "def update_jmp_addrs():\n",
    "    offset = get_offset_with_objdump_and_gdb()\n",
    "    addrs = get_jmp_addrs()\n",
    "    addrs = [hex(int(addr, 0) + int(offset, 0)) for addr in addrs]\n",
    "    return addrs\n",
    "\n",
    "update_jmp_addrs()"
   ]
  },
  {
   "cell_type": "code",
   "execution_count": null,
   "metadata": {},
   "outputs": [],
   "source": []
  }
 ],
 "metadata": {
  "kernelspec": {
   "display_name": "Python 3",
   "language": "python",
   "name": "python3"
  },
  "language_info": {
   "codemirror_mode": {
    "name": "ipython",
    "version": 3
   },
   "file_extension": ".py",
   "mimetype": "text/x-python",
   "name": "python",
   "nbconvert_exporter": "python",
   "pygments_lexer": "ipython3",
   "version": "3.6.9"
  }
 },
 "nbformat": 4,
 "nbformat_minor": 2
}
